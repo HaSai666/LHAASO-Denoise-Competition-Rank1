{
 "cells": [
  {
   "cell_type": "code",
   "execution_count": 1,
   "metadata": {},
   "outputs": [],
   "source": [
    "import pandas as pd\n",
    "import seaborn as sns\n",
    "import numpy as np"
   ]
  },
  {
   "cell_type": "code",
   "execution_count": 111,
   "metadata": {},
   "outputs": [],
   "source": [
    "res_nn = pd.read_csv('../result/wavenet_prob.csv')\n",
    "res_xgb = pd.read_csv('../result/xgb_prob.csv')\n",
    "res_cat = pd.read_csv('../result/cat_prob.csv')"
   ]
  },
  {
   "cell_type": "code",
   "execution_count": 260,
   "metadata": {},
   "outputs": [],
   "source": [
    "thre = 0.45\n",
    "#线性加权融合\n",
    "pred = 0.55*res_xgb['flag_pred']+0.25*res_nn['flag_pred']+0.2*res_cat['flag_pred']\n",
    "tt = pd.read_csv('../data/test.csv')\n",
    "sub = pd.DataFrame()\n",
    "tt['flag_pre'] =pred\n",
    "tt.loc[tt['t']>1850,'flag_pre']=1\n",
    "tt.loc[tt['t']<-900,'flag_pre']=0\n",
    "tt.loc[tt['q']<0,'flag_pre']=1\n",
    "sub['hit_id']=tt['hit_id']\n",
    "sub['flag_pred'] = tt['flag_pre']\n",
    "sub['event_id'] = tt['event_id']\n",
    "sub['flag_pred']=tt['flag_pre']\n",
    "sub['flag_pred'] = sub['flag_pred'].apply(lambda x: 1 if x >= thre else 0)\n",
    "sub.to_csv('../result/esamble_{}_{}.csv'.format(sub['flag_pred'].mean(),thre ),index=False)"
   ]
  }
 ],
 "metadata": {
  "kernelspec": {
   "display_name": "Python 3",
   "language": "python",
   "name": "python3"
  },
  "language_info": {
   "codemirror_mode": {
    "name": "ipython",
    "version": 3
   },
   "file_extension": ".py",
   "mimetype": "text/x-python",
   "name": "python",
   "nbconvert_exporter": "python",
   "pygments_lexer": "ipython3",
   "version": "3.5.6"
  }
 },
 "nbformat": 4,
 "nbformat_minor": 2
}
